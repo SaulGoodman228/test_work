{
 "cells": [
  {
   "metadata": {
    "ExecuteTime": {
     "end_time": "2025-10-24T11:43:52.738650Z",
     "start_time": "2025-10-24T11:43:51.348108Z"
    }
   },
   "cell_type": "code",
   "source": [
    "from ultralytics import YOLO\n",
    "import cv2\n",
    "import numpy as np\n",
    "import time"
   ],
   "id": "6804d1d3eb80d6a3",
   "outputs": [],
   "execution_count": 1
  },
  {
   "metadata": {},
   "cell_type": "code",
   "outputs": [],
   "execution_count": null,
   "source": "",
   "id": "276c126504e1ffe9"
  },
  {
   "metadata": {},
   "cell_type": "code",
   "outputs": [],
   "execution_count": null,
   "source": [
    "\n",
    "# ПРИМЕР ИСПОЛЬЗОВАНИЯ\n",
    "if __name__ == \"__main__\":\n",
    "    # Пример для предобученных моделей\n",
    "    models_to_test = ['yolov8n.pt', 'yolov8s.pt','yolo11n.pt']\n",
    "\n",
    "    for model_name in models_to_test:\n",
    "        output_name = f\"output_{model_name.replace('.pt', '')}.mp4\"\n",
    "        print(f\"\\nТестирование {model_name}...\")\n",
    "        detect_and_save_video(\n",
    "            input_video_path='videos/origin/crowd.mp4',\n",
    "            output_video_path=output_name,\n",
    "            model_name=model_name,\n",
    "            conf_threshold=0.5\n",
    "        )"
   ],
   "id": "4592626b88d9a5fa"
  }
 ],
 "metadata": {
  "kernelspec": {
   "display_name": "Python 3",
   "language": "python",
   "name": "python3"
  },
  "language_info": {
   "codemirror_mode": {
    "name": "ipython",
    "version": 2
   },
   "file_extension": ".py",
   "mimetype": "text/x-python",
   "name": "python",
   "nbconvert_exporter": "python",
   "pygments_lexer": "ipython2",
   "version": "2.7.6"
  }
 },
 "nbformat": 4,
 "nbformat_minor": 5
}
